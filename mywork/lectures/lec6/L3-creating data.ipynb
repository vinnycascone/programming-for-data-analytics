{
 "cells": [
  {
   "cell_type": "markdown",
   "id": "96196dfc",
   "metadata": {},
   "source": [
    "# Generating Data\n",
    "Lets say you want to generate synthetic data of the number of new visitors to an Emergency Department over time.  \n",
    "based on the mean number of visitors\n",
    "for that we would need to \n",
    "- Create the date range\n",
    "- Create the random data based on the poisson distribution"
   ]
  },
  {
   "cell_type": "code",
   "execution_count": null,
   "id": "a829b573",
   "metadata": {},
   "outputs": [],
   "source": [
    "import pandas as pd\n",
    "import numpy as np"
   ]
  },
  {
   "cell_type": "markdown",
   "id": "3dbdfd9a",
   "metadata": {},
   "source": [
    "### The date range\n",
    "use the `date_range()` function see [docs](https://pandas.pydata.org/pandas-docs/stable/reference/api/pandas.date_range.html)\n",
    "\n",
    "\n",
    "be aware of american formatting"
   ]
  },
  {
   "cell_type": "code",
   "execution_count": null,
   "id": "326815a7",
   "metadata": {},
   "outputs": [],
   "source": [
    "pd.date_range(start='1/1/2018', end='1/08/2018')"
   ]
  },
  {
   "cell_type": "markdown",
   "id": "27973c13",
   "metadata": {},
   "source": [
    "I would strongly suggest that you use the formatt year first."
   ]
  },
  {
   "cell_type": "code",
   "execution_count": null,
   "id": "7e3eb7f5",
   "metadata": {},
   "outputs": [],
   "source": [
    "pd.date_range(start='2023-01-01', end='2023-01-04')"
   ]
  },
  {
   "cell_type": "markdown",
   "id": "6d985491",
   "metadata": {},
   "source": [
    "You can use freq to say that we want hourly data"
   ]
  },
  {
   "cell_type": "code",
   "execution_count": null,
   "id": "34e57310",
   "metadata": {},
   "outputs": [],
   "source": [
    "pd.date_range(start='2023-01-01', end='2023-01-04', freq=\"H\")"
   ]
  },
  {
   "cell_type": "markdown",
   "id": "bd636e1c",
   "metadata": {},
   "source": [
    "Lets store this in a variable that I will make the index of my Data Frame"
   ]
  },
  {
   "cell_type": "code",
   "execution_count": null,
   "id": "6c422d13",
   "metadata": {},
   "outputs": [],
   "source": [
    "idx = pd.date_range(start='2023-01-01', end='2023-01-04', freq=\"H\")"
   ]
  },
  {
   "cell_type": "markdown",
   "id": "f9642bc9",
   "metadata": {},
   "source": [
    "ok lets generate some ramdom data (the same lenght of the idx)\n"
   ]
  },
  {
   "cell_type": "code",
   "execution_count": null,
   "id": "8b88307b",
   "metadata": {},
   "outputs": [],
   "source": [
    "rng = np.random.default_rng()"
   ]
  },
  {
   "cell_type": "code",
   "execution_count": null,
   "id": "55b97d19",
   "metadata": {},
   "outputs": [],
   "source": [
    "df = pd.DataFrame(index = idx, data = rng.random(len(idx)), columns=[\"admissions\"])\n",
    "df.head(3)"
   ]
  },
  {
   "cell_type": "markdown",
   "id": "7bf37c2a",
   "metadata": {},
   "source": [
    "Ok that does not look like proper data. (hard to treat .3 of a person :) )  \n",
    "so we need a discrete set of random numbers that match a mean....... so we use the *poisson distribution*  \n",
    "\n",
    "see [docs](https://numpy.org/doc/stable/reference/random/generated/numpy.random.Generator.poisson.html)  \n",
    "also more information https://en.wikipedia.org/wiki/Poisson_distribution\n"
   ]
  },
  {
   "cell_type": "code",
   "execution_count": null,
   "id": "589131a6",
   "metadata": {},
   "outputs": [],
   "source": [
    "mean_admissions = 15\n"
   ]
  },
  {
   "cell_type": "markdown",
   "id": "c815ced6",
   "metadata": {},
   "source": [
    "we will use poisson distribution  \n",
    "`poisson(lam=the_mean, size= number_to_return)`"
   ]
  },
  {
   "cell_type": "code",
   "execution_count": null,
   "id": "fa2308f6",
   "metadata": {},
   "outputs": [],
   "source": [
    "df = pd.DataFrame(index = idx, data = rng.poisson(lam=mean_admissions, size= len(idx)), columns=[\"admissions\"])\n",
    "df.head(3)"
   ]
  },
  {
   "cell_type": "code",
   "execution_count": null,
   "id": "e0bfe073",
   "metadata": {},
   "outputs": [],
   "source": [
    "import seaborn as sns"
   ]
  },
  {
   "cell_type": "code",
   "execution_count": null,
   "id": "d4e978ee",
   "metadata": {},
   "outputs": [],
   "source": [
    "sns.lineplot(data=df,x = df.index, y=\"admissions\")"
   ]
  },
  {
   "cell_type": "code",
   "execution_count": null,
   "id": "3fdc63f4",
   "metadata": {},
   "outputs": [],
   "source": [
    "df[\"admissions\"].mean()"
   ]
  },
  {
   "cell_type": "markdown",
   "id": "949e0688",
   "metadata": {},
   "source": [
    "#### This does not take into account the time of the day \n",
    "we can pass in an array into lam to reflect the changing averages though out the day\n"
   ]
  },
  {
   "cell_type": "code",
   "execution_count": null,
   "id": "4a0a7252",
   "metadata": {},
   "outputs": [],
   "source": [
    "x = np.linspace(-np.pi, np.pi, 24)\n",
    "means = np.sin(x) +15\n",
    "import matplotlib.pylab as plt\n",
    "plt.plot(x, means)"
   ]
  },
  {
   "cell_type": "code",
   "execution_count": null,
   "id": "c174429a",
   "metadata": {},
   "outputs": [],
   "source": [
    "df = pd.DataFrame(index = idx, data = rng.poisson(lam=means, size= len(idx)), columns=[\"admissions\"])\n",
    "df.head(3)"
   ]
  },
  {
   "cell_type": "code",
   "execution_count": null,
   "id": "24b6f29c",
   "metadata": {},
   "outputs": [],
   "source": [
    "len(idx)"
   ]
  },
  {
   "cell_type": "code",
   "execution_count": null,
   "id": "579b392a",
   "metadata": {},
   "outputs": [],
   "source": [
    "#x = np.linspace(-np.pi, 3*np.pi, len(73))\n",
    "number_ofdays = len(idx)/24\n",
    "multiplier =( number_ofdays *2) -1\n",
    "x = x = np.linspace(-np.pi, multiplier*np.pi , len(idx))\n",
    "admissions_means = (np.sin(x) * (mean_admissions/2)) + mean_admissions\n",
    "import matplotlib.pylab as plt\n",
    "plt.plot(x, admissions_means)\n"
   ]
  },
  {
   "cell_type": "code",
   "execution_count": null,
   "id": "25439ec4",
   "metadata": {},
   "outputs": [],
   "source": [
    "df = pd.DataFrame(index = idx, data = rng.poisson(lam=admissions_means, size= len(idx)), columns=[\"admissions\"])\n",
    "df.head(3)"
   ]
  },
  {
   "cell_type": "code",
   "execution_count": null,
   "id": "696bac35",
   "metadata": {
    "scrolled": true
   },
   "outputs": [],
   "source": [
    "sns.lineplot(data=df,x = df.index, y=\"admissions\")"
   ]
  },
  {
   "cell_type": "markdown",
   "id": "6d9b0890",
   "metadata": {},
   "source": [
    "### References\n",
    "- https://pandas.pydata.org/pandas-docs/stable/reference/api/pandas.date_range.html\n",
    "- https://en.wikipedia.org/wiki/Poisson_distribution\n",
    "- https://www.w3schools.com/python/numpy/numpy_random_poisson.asp\n",
    "- https://numpy.org/doc/stable/reference/random/generated/numpy.random.Generator.poisson.html"
   ]
  }
 ],
 "metadata": {
  "kernelspec": {
   "display_name": "Python 3 (ipykernel)",
   "language": "python",
   "name": "python3"
  },
  "language_info": {
   "codemirror_mode": {
    "name": "ipython",
    "version": 3
   },
   "file_extension": ".py",
   "mimetype": "text/x-python",
   "name": "python",
   "nbconvert_exporter": "python",
   "pygments_lexer": "ipython3",
   "version": "3.9.7"
  }
 },
 "nbformat": 4,
 "nbformat_minor": 5
}
