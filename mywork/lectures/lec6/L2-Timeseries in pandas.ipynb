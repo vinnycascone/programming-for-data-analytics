{
 "cells": [
  {
   "cell_type": "markdown",
   "id": "679e6370",
   "metadata": {},
   "source": [
    "# Timeseries in pandas\n",
    "In this notebook\n",
    "- get data that into a dataframe \n",
    "- convert the appropriate column into time-series\n",
    "\n",
    "[docs](https://pandas.pydata.org/pandas-docs/stable/user_guide/timeseries.html#overview)\n"
   ]
  },
  {
   "cell_type": "code",
   "execution_count": null,
   "id": "c9db7717",
   "metadata": {},
   "outputs": [],
   "source": [
    "import pandas as pd"
   ]
  },
  {
   "cell_type": "markdown",
   "id": "3a73d8a0",
   "metadata": {},
   "source": [
    "### Getting Data\n",
    "There is a lot of useful datasets at\n",
    "datahub.io\n",
    "\n",
    "I am going to use the link \n",
    "https://datahub.io/core/co2-ppm/_r/-/data/co2-mm-mlo.csv"
   ]
  },
  {
   "cell_type": "code",
   "execution_count": null,
   "id": "226f3e49",
   "metadata": {},
   "outputs": [],
   "source": [
    "df = pd.read_csv(\"https://datahub.io/core/co2-ppm/_r/-/data/co2-mm-mlo.csv\")\n",
    "df.head(3)"
   ]
  },
  {
   "cell_type": "markdown",
   "id": "fa702945",
   "metadata": {},
   "source": [
    "### What the heck!!!??"
   ]
  },
  {
   "cell_type": "code",
   "execution_count": null,
   "id": "0ca25277",
   "metadata": {},
   "outputs": [],
   "source": [
    "fields = ['Date', 'Interpolated']\n",
    "df = pd.read_csv(\"https://datahub.io/core/co2-ppm/_r/-/data/co2-mm-mlo.csv\", usecols = fields)\n",
    "df.head(3)"
   ]
  },
  {
   "cell_type": "markdown",
   "id": "f0309b71",
   "metadata": {},
   "source": [
    "##### damn still not working, arrrghhhhhhh"
   ]
  },
  {
   "cell_type": "code",
   "execution_count": null,
   "id": "fee197e9",
   "metadata": {},
   "outputs": [],
   "source": [
    "names = ['Date', \"DD\", \"Ave\", \"Interpolated\", \"Trend\", \"Num Days\",\"extra\"]\n",
    "df = pd.read_csv(\"https://datahub.io/core/co2-ppm/_r/-/data/co2-mm-mlo.csv\",header= None, names = names, skiprows=1)\n",
    "df.head(3)"
   ]
  },
  {
   "cell_type": "code",
   "execution_count": null,
   "id": "eb8d02f7",
   "metadata": {},
   "outputs": [],
   "source": [
    "df[\"Date\"]"
   ]
  },
  {
   "cell_type": "markdown",
   "id": "7a19eff8",
   "metadata": {},
   "source": [
    "so we will use [to_datetime](https://pandas.pydata.org/pandas-docs/stable/reference/api/pandas.to_datetime.html)\n"
   ]
  },
  {
   "cell_type": "code",
   "execution_count": null,
   "id": "b89c7466",
   "metadata": {},
   "outputs": [],
   "source": [
    "pd.to_datetime(df['Date'])"
   ]
  },
  {
   "cell_type": "code",
   "execution_count": null,
   "id": "57610175",
   "metadata": {},
   "outputs": [],
   "source": [
    "df[\"Date\"]= pd.to_datetime(df['Date'])"
   ]
  },
  {
   "cell_type": "code",
   "execution_count": null,
   "id": "08953aba",
   "metadata": {},
   "outputs": [],
   "source": [
    "df[\"Date\"]"
   ]
  },
  {
   "cell_type": "markdown",
   "id": "da9751c4",
   "metadata": {},
   "source": [
    "## Seaborn\n",
    "is a nice plotting package based on matplot lib"
   ]
  },
  {
   "cell_type": "code",
   "execution_count": null,
   "id": "0f017f69",
   "metadata": {},
   "outputs": [],
   "source": [
    "import seaborn as sns"
   ]
  },
  {
   "cell_type": "code",
   "execution_count": null,
   "id": "cd6dd990",
   "metadata": {},
   "outputs": [],
   "source": [
    "sns.lineplot(data=df, x=\"Date\", y=\"Ave\")"
   ]
  },
  {
   "cell_type": "code",
   "execution_count": null,
   "id": "94a52a09",
   "metadata": {},
   "outputs": [],
   "source": [
    "sns.lineplot(data=df.iloc[1:12], x=\"Date\", y=\"Ave\")"
   ]
  },
  {
   "cell_type": "code",
   "execution_count": null,
   "id": "fa33e703",
   "metadata": {},
   "outputs": [],
   "source": [
    "sns.lineplot(data=df, x=\"Date\", y=\"Ave\")\n",
    "sns.lineplot(data=df, x=\"Date\", y=\"Interpolated\")"
   ]
  },
  {
   "cell_type": "markdown",
   "id": "1e9c4d12",
   "metadata": {},
   "source": [
    "## Irish data\n",
    "Have a look at data.gov.ie\n",
    "There is lots of data\n",
    "\n",
    "I am going to look at\n",
    "Knock airport weather https://cli.fusio.net/cli/climate_data/webdata/mly4935.csv\n"
   ]
  },
  {
   "cell_type": "code",
   "execution_count": null,
   "id": "698fd442",
   "metadata": {},
   "outputs": [],
   "source": [
    "df = pd.read_csv(\"https://cli.fusio.net/cli/climate_data/webdata/mly4935.csv\")\n",
    "df.head(3)"
   ]
  },
  {
   "cell_type": "markdown",
   "id": "70bc8873",
   "metadata": {},
   "source": [
    "##### Whoops \n",
    "we need to ignore the first few rows (this is why it is good to inspect the data)"
   ]
  },
  {
   "cell_type": "code",
   "execution_count": null,
   "id": "1e16ee06",
   "metadata": {},
   "outputs": [],
   "source": [
    "df = pd.read_csv(\"https://cli.fusio.net/cli/climate_data/webdata/mly4935.csv\", skiprows=19)\n",
    "df.head(3)"
   ]
  },
  {
   "cell_type": "markdown",
   "id": "8561edf0",
   "metadata": {},
   "source": [
    "mmmmm the year and month are in different Columns  \n",
    "(I am not going to dwell on the holes in the data yet, I talked about that two weeks ago)"
   ]
  },
  {
   "cell_type": "code",
   "execution_count": null,
   "id": "6a40ada2",
   "metadata": {
    "scrolled": true
   },
   "outputs": [],
   "source": [
    "pd.to_datetime(df[['year', 'month']])"
   ]
  },
  {
   "cell_type": "markdown",
   "id": "f8d1461a",
   "metadata": {},
   "source": [
    "###### Arrrrgghhhhhhhhh\n",
    "Ok lets make a column called day"
   ]
  },
  {
   "cell_type": "code",
   "execution_count": null,
   "id": "58d7ed86",
   "metadata": {},
   "outputs": [],
   "source": [
    "df[\"day\"]=1\n",
    "df.head(3)"
   ]
  },
  {
   "cell_type": "code",
   "execution_count": null,
   "id": "c2aed7a6",
   "metadata": {
    "scrolled": true
   },
   "outputs": [],
   "source": [
    "df['date']=pd.to_datetime(df[['year', 'month', 'day']])\n",
    "df['date']"
   ]
  },
  {
   "cell_type": "code",
   "execution_count": null,
   "id": "6882f5a7",
   "metadata": {},
   "outputs": [],
   "source": [
    "sns.lineplot(data=df, x=\"date\", y=\"meant\")"
   ]
  },
  {
   "cell_type": "markdown",
   "id": "9271498e",
   "metadata": {},
   "source": [
    "### setting the index to the datetime\n",
    "If you would like to do some analysis on the data based on time, you should set the index of the DataFrame to be the date"
   ]
  },
  {
   "cell_type": "code",
   "execution_count": null,
   "id": "330e82ef",
   "metadata": {
    "scrolled": true
   },
   "outputs": [],
   "source": [
    "df.set_index('date', inplace=True)\n",
    "df.head(3)"
   ]
  },
  {
   "cell_type": "code",
   "execution_count": null,
   "id": "2b9aaaf3",
   "metadata": {},
   "outputs": [],
   "source": [
    "sns.lineplot(data=df, x=\"date\", y=\"meant\")"
   ]
  },
  {
   "cell_type": "markdown",
   "id": "9d17b6de",
   "metadata": {},
   "source": [
    "##### lets look at one year\n",
    "`loc` gets the rols that match the indexes value"
   ]
  },
  {
   "cell_type": "code",
   "execution_count": null,
   "id": "a47ee8d5",
   "metadata": {},
   "outputs": [],
   "source": [
    "dateFrom = \"2010-01-01 01:00:00\"\n",
    "dateTo = \"2011-01-01 01:00:00\"\n",
    "sns.lineplot(data=df.loc[dateFrom:dateTo], x=\"date\", y=\"meant\")"
   ]
  },
  {
   "cell_type": "markdown",
   "id": "13ae6b86",
   "metadata": {},
   "source": [
    " remeber `iloc` uses the row (or column) number"
   ]
  },
  {
   "cell_type": "code",
   "execution_count": null,
   "id": "b6f7aa39",
   "metadata": {},
   "outputs": [],
   "source": [
    "sns.lineplot(data=df.iloc[36:48], x=\"date\", y=\"meant\")"
   ]
  },
  {
   "cell_type": "markdown",
   "id": "24eba655",
   "metadata": {},
   "source": [
    "### Get the mean temperature\n",
    "ie select the row and Column  \n",
    "*note* Be careful taking the mean of a mean or percentage, this can cause unsound data"
   ]
  },
  {
   "cell_type": "code",
   "execution_count": null,
   "id": "8e22cae9",
   "metadata": {},
   "outputs": [],
   "source": [
    "dateFrom = \"2010-01-01 01:00:00\"\n",
    "dateTo = \"2011-01-01 01:00:00\"\n",
    "df.loc[dateFrom:dateTo]['meant'].mean()"
   ]
  },
  {
   "cell_type": "markdown",
   "id": "76dec79d",
   "metadata": {},
   "source": [
    "## Resample\n",
    "You can resample the date,  \n",
    "ie break it up into chunks.  \n",
    "eg plot the average temperatures each year\n",
    "\n",
    "[docs](https://pandas.pydata.org/pandas-docs/stable/user_guide/timeseries.html#resampling)"
   ]
  },
  {
   "cell_type": "code",
   "execution_count": null,
   "id": "19416dec",
   "metadata": {},
   "outputs": [],
   "source": [
    "df[\"meant\"].resample(\"1y\").mean()"
   ]
  },
  {
   "cell_type": "markdown",
   "id": "0babfef3",
   "metadata": {},
   "source": [
    "you can use `rolling()` to provide rolling calculations (eg averages)\n",
    "\n",
    "### Aggregation\n",
    "`agg()`  \n",
    "instead of just doing the mean() you can do mulitple operations (even have your own lamba functions)   \n",
    "[docs](https://pandas.pydata.org/pandas-docs/stable/user_guide/timeseries.html#aggregation)\n"
   ]
  },
  {
   "cell_type": "code",
   "execution_count": null,
   "id": "d0ada54d",
   "metadata": {},
   "outputs": [],
   "source": [
    "df.head(3)"
   ]
  },
  {
   "cell_type": "code",
   "execution_count": null,
   "id": "9124517b",
   "metadata": {},
   "outputs": [],
   "source": [
    "rs =df.resample(\"1y\")  # resamples the entire data frame\n"
   ]
  },
  {
   "cell_type": "code",
   "execution_count": null,
   "id": "1d52bd72",
   "metadata": {},
   "outputs": [],
   "source": [
    "rs.mean()"
   ]
  },
  {
   "cell_type": "code",
   "execution_count": null,
   "id": "51c8714b",
   "metadata": {
    "scrolled": true
   },
   "outputs": [],
   "source": [
    "rs['meant'].agg([\"mean\", \"std\"])"
   ]
  },
  {
   "cell_type": "markdown",
   "id": "52824c0e",
   "metadata": {},
   "source": [
    "### Conslusion\n",
    "We are only scratching the surface here.   \n",
    "There is lots more for you to explore:\n",
    "- The Documentation\n",
    "- search for it\n",
    "- co-pilot or chat-gpt can also give you starts"
   ]
  },
  {
   "cell_type": "markdown",
   "id": "f453b2db",
   "metadata": {},
   "source": [
    "### References\n",
    "- https://realpython.com/pandas-dataframe/#working-with-time-series\n",
    "- https://pandas.pydata.org/pandas-docs/stable/user_guide/timeseries.html#overview\n",
    "- https://pandas.pydata.org/pandas-docs/stable/reference/api/pandas.to_datetime.html#pandas.to_datetime"
   ]
  },
  {
   "cell_type": "code",
   "execution_count": null,
   "id": "72351f6b",
   "metadata": {},
   "outputs": [],
   "source": []
  }
 ],
 "metadata": {
  "kernelspec": {
   "display_name": "Python 3 (ipykernel)",
   "language": "python",
   "name": "python3"
  },
  "language_info": {
   "codemirror_mode": {
    "name": "ipython",
    "version": 3
   },
   "file_extension": ".py",
   "mimetype": "text/x-python",
   "name": "python",
   "nbconvert_exporter": "python",
   "pygments_lexer": "ipython3",
   "version": "3.9.7"
  }
 },
 "nbformat": 4,
 "nbformat_minor": 5
}
